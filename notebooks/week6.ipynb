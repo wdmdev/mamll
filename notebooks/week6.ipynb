{
 "cells": [
  {
   "cell_type": "markdown",
   "metadata": {},
   "source": [
    "# Week 6 - Metrics and Geodesics\n",
    "This week covers Riemannian pull-back metrics and geodesics (shortest paths) for learned representations."
   ]
  },
  {
   "cell_type": "markdown",
   "metadata": {},
   "source": [
    "## 6.1 - Spherical metric \n",
    "\n",
    "Let $x_1 \\in(0, \\pi)$ and $x_2 \\in[0,2 \\pi)$ be the latent coordinates of the manifold spanned by the function $f:(0, \\pi) \\times[0,2 \\pi) \\rightarrow \\mathbb{R}^3$\n",
    "\\begin{align*}\n",
    "f\\left(x_1, x_2\\right)=\\left(\\begin{array}{c}\n",
    "\\sin \\left(x_1\\right) \\cos \\left(x_2\\right) \\\\\n",
    "\\sin \\left(x_1\\right) \\sin \\left(x_2\\right) \\\\\n",
    "\\cos \\left(x_1\\right)\n",
    "\\end{array}\\right) .\n",
    "\\end{align*}"
   ]
  },
  {
   "cell_type": "markdown",
   "metadata": {},
   "source": [
    "### 1.\n",
    "Derive the Jacobian matrix of f"
   ]
  },
  {
   "cell_type": "markdown",
   "metadata": {},
   "source": [
    "$$\n",
    "J = \n",
    "\\begin{bmatrix}\n",
    "    \\cos(x_1) \\cos(x_2) & -\\sin(x_1)\\sin(x_2) \\\\\n",
    "    \\cos(x_1)\\sin(x_2) & \\sin(x_1)\\cos(x_2) \\\\\n",
    "    -\\sin(x_1) & 0\n",
    "\\end{bmatrix}\n",
    "$$"
   ]
  },
  {
   "cell_type": "markdown",
   "metadata": {},
   "source": [
    "### 2. \n",
    "Derive the metric associated with f according to Eq. 5.21 in the DGGM book."
   ]
  },
  {
   "cell_type": "markdown",
   "metadata": {},
   "source": [
    "$$\n",
    "\\begin{align}\n",
    "G_x &= J_x^T J_x \\\\\n",
    "&= \\begin{bmatrix}\n",
    "    (\\cos(x_1)\\cos(x_2))^2 + (\\cos(x_1)\\sin(x_2))^2 + \\sin^2(x_1) & 0 \\\\\n",
    "    0 & (\\sin(x_1)\\sin(x_2))^2 + (\\sin(x_1)\\cos(x_2))^2\n",
    "\\end{bmatrix}\n",
    "\\end{align}\n",
    "$$"
   ]
  },
  {
   "cell_type": "markdown",
   "metadata": {},
   "source": [
    "### 3.\n",
    "Show that the metric is positive definite."
   ]
  },
  {
   "cell_type": "markdown",
   "metadata": {},
   "source": [
    "The metric $G_x$ is a symmetric diagonal matrix i.e. the diagonal holds the eigenvalues.\n",
    "\n",
    "The eigenvalues in the diagonal are all raised to the power of 2, so they cannot be negative.\n",
    "Furthermore all eigenvalues includes both $\\cos$ and $\\sin$ elements and therefore they will never be 0.\n",
    "\n",
    "As such the metric $G_x$ is a symmetric matrix with all positive eigenvalues and therefore it is positive definite."
   ]
  },
  {
   "cell_type": "markdown",
   "metadata": {},
   "source": [
    "## 6.2 - Quadratic Metric\n",
    "Consider a two-dimensional abstract manifold with the metric\n",
    "\\begin{align*}\n",
    "\\mathbf{G}_{\\mathbf{x}}=\\left(1+\\|\\mathbf{x}\\|^2\\right) \\mathbf{I}, \\quad \\mathbf{x} \\in \\mathbb{R}^2 .\n",
    "\\end{align*}\n",
    "\n",
    "Consider the points\n",
    "\\begin{align*}\n",
    "\\mathbf{x}_1=\\left(\\begin{array}{l}\n",
    "1 \\\\\n",
    "1\n",
    "\\end{array}\\right) \\quad \\mathbf{x}_2=\\left(\\begin{array}{l}\n",
    "2 \\\\\n",
    "3\n",
    "\\end{array}\\right) \\quad \\mathbf{x}_3=\\left(\\begin{array}{l}\n",
    "0 \\\\\n",
    "3\n",
    "\\end{array}\\right) .\n",
    "\\end{align*}"
   ]
  },
  {
   "cell_type": "markdown",
   "metadata": {},
   "source": [
    "## 1.\n",
    "Compute the local norms of the tangent vector $\\mathbf{v}_1=\\left(\\begin{array}{ll}1 & 0\\end{array}\\right)^{\\top}$ assuming the point of tangency is $\\mathbf{x}_1, \\mathbf{x}_2$ and $\\mathbf{x}_3$, respectively."
   ]
  },
  {
   "cell_type": "markdown",
   "metadata": {},
   "source": [
    "Consider a 2d abstract manifold\n",
    "\n",
    "with metric\n",
    "\n",
    "$$\n",
    "G_{x}=\\left(1+\\|x\\|^{2}\\right) I, x \\in \\mathbb{R}^{2}\n",
    "$$\n",
    "\n",
    "We have the points\n",
    "\n",
    "$$\n",
    "x_{1}=\\left(\\begin{array}{l}\n",
    "1 \\\\\n",
    "1\n",
    "\\end{array}\\right) \\quad x_{2}=\\left(\\begin{array}{l}\n",
    "2 \\\\\n",
    "3\n",
    "\\end{array}\\right) \\quad x_{3}=\\left(\\begin{array}{l}\n",
    "0 \\\\\n",
    "3\n",
    "\\end{array}\\right)\n",
    "$$\n",
    "\n",
    "1. Local norms\n",
    "\n",
    "For a vector $v$ at point $x$ the norm is computed as\n",
    "\n",
    "$$\n",
    "\\|v\\|_{x}=\\sqrt{v^{\\top} G_{x} v}\n",
    "$$\n",
    "\n",
    "So for $v_{1}=\\left(\\begin{array}{ll}1 & 0\\end{array}\\right)^{\\top}$ we get the following norms for the respective points.\n",
    "\n",
    "### $x_{1}$\n",
    "\n",
    "$G_{x_{1}}=\\left[\\begin{array}{cc}1+\\left\\|x_{1}\\right\\|^{2} & 0 \\\\ 0 & 1+\\left\\|x_{1}\\right\\|^{2}\\end{array}\\right]$\n",
    "\n",
    "where\n",
    "\n",
    "$$\n",
    "\\left\\|x_{1}\\right\\|=\\sqrt{2}\n",
    "$$\n",
    "\n",
    "so\n",
    "\n",
    "$$\n",
    "G_{x_{1}}=\\left[\\begin{array}{ll}\n",
    "3 & 0 \\\\\n",
    "0 & 3\n",
    "\\end{array}\\right]\n",
    "$$\n",
    "\n",
    "and\n",
    "\n",
    "$$\n",
    "\\begin{aligned}\n",
    "\\|v\\|_{x_{1}} & =\\sqrt{\\left[\\begin{array}{ll}\n",
    "1 & 0\n",
    "\\end{array}\\right]\\left[\\begin{array}{ll}\n",
    "3 & 0 \\\\\n",
    "0 & 3\n",
    "\\end{array}\\right]\\left[\\begin{array}{l}\n",
    "1 \\\\\n",
    "0\n",
    "\\end{array}\\right]} \\\\\n",
    "& =\\sqrt{\\left[\\begin{array}{ll}\n",
    "3 & 0\n",
    "\\end{array}\\right]\\left[\\begin{array}{l}\n",
    "1 \\\\\n",
    "0\n",
    "\\end{array}\\right]} \\\\\n",
    "& =\\sqrt{3}\n",
    "\\end{aligned}\n",
    "$$\n",
    "\n",
    "### $x_2$\n",
    "\n",
    "$\\frac{x_{2}}{\\left\\|x_{2}\\right\\|}=\\sqrt{4+9}=\\sqrt{13}, \\quad G_{x_{2}}=\\left[\\begin{array}{ll}14 & 0 \\\\ 0 & 14\\end{array}\\right]$\n",
    "$\\|v\\|_{x_{2}}=\\sqrt{\\left[\\begin{array}{ll}1 & 0\\end{array}\\right]\\left[\\begin{array}{cc}14 & 0 \\\\ 0 & 14\\end{array}\\right]\\left[\\begin{array}{l}1 \\\\ 0\\end{array}\\right]}$ $=\\sqrt{14}$\n",
    "\n",
    "### $x_3$\n",
    "$\\frac{x_{3}}{\\left\\|x_{3}\\right\\|}=\\sqrt{9}=3, \\quad G_{x_{3}}=\\left[\\begin{array}{cc}10 & 0 \\\\ 0 & 10\\end{array}\\right]$\n",
    "\n",
    "$\\|v\\|_{x_{3}}=\\sqrt{10}$\n",
    "\n"
   ]
  },
  {
   "cell_type": "markdown",
   "metadata": {},
   "source": [
    "## 2. \n",
    "Compute the local angles between $\\mathbf{v}_1$ and $\\mathbf{v}_2=\\left(\\begin{array}{ll}0 & 1\\end{array}\\right)^{\\top}$ in the same three points of tangency"
   ]
  },
  {
   "cell_type": "markdown",
   "metadata": {},
   "source": [
    "2. Local Angles\n",
    "\n",
    "The local angles between two vectors $v_1$ and $v_2$ at a point $x_1$ is defined as:\n",
    "\\begin{align*}\n",
    "\\theta=\\cos ^{-1}\\left(\\frac{\\left\\langle v_1, v_2\\right\\rangle_x}{\\left\\|v_1\\right\\|_x\\left\\|v_2\\right\\|_x}\\right)\n",
    "\\end{align*}\n",
    "\n",
    "Where the inner product can be expressed in terms of the metric $G_x$ :\n",
    "\\begin{align*}\n",
    "\\left\\langle V_1, v_2\\right\\rangle_x=V_1^T G_x v_2\n",
    "\\end{align*}\n",
    "\n",
    "and the vector norm of a vector $v$ at point $x$ is still:\n",
    "\\begin{align*}\n",
    "\\|v\\|_x=\\sqrt{V^{\\top} G_x v}\n",
    "\\end{align*}\n",
    "\n",
    "With that we continue to the exercise.\n",
    "\n",
    "We have the vectors:\n",
    "\\begin{align*}\n",
    "V_1=\\left[\\begin{array}{ll}\n",
    "1 & 0\n",
    "\\end{array}\\right]^{\\top} \\text { and } V_2=\\left[\\begin{array}{ll}\n",
    "0 & 1\n",
    "\\end{array}\\right]^{\\top}\n",
    "\\end{align*}\n",
    "\n",
    "For point $x_1$ the local angle is\n",
    "\\begin{align*}\n",
    "\\theta_{x_1}=\\cos ^{-1}\\left(\\frac{\\left\\langle v_1, v_2\\right\\rangle_{x_1}}{\\left\\|v_1\\right\\|_{x_1}\\left\\|v_2\\right\\|_{x_1}}\\right)\n",
    "\\end{align*}\n",
    "\n",
    "Where\n",
    "\\begin{align*}\n",
    "\\left\\langle V_1, V_2\\right\\rangle_{x_1}=V_1^{\\top} G_{x_1} V_2\n",
    "\\end{align*}\n",
    "\n",
    "From the previous exercise we have that\n",
    "\\begin{align*}\n",
    "G_{x_1}=\\left[\\begin{array}{ll}\n",
    "3 & 0 \\\\\n",
    "0 & 3\n",
    "\\end{array}\\right]\n",
    "\\end{align*}\n",
    "\n",
    "Plotting that in we get the inner product.\n",
    "\\begin{align*}\n",
    "\\left[\\begin{array}{ll}\n",
    "1 & 0\n",
    "\\end{array}\\right]\\left[\\begin{array}{ll}\n",
    "3 & 0 \\\\\n",
    "0 & 3\n",
    "\\end{array}\\right]\\left[\\begin{array}{l}\n",
    "0 \\\\\n",
    "1\n",
    "\\end{array}\\right]=3\n",
    "\\end{align*}\n",
    "\n",
    "and Vector norm\n",
    "\\begin{align*}\n",
    "\\begin{aligned}\n",
    "\\left\\|V_2\\right\\|_{x_1} & =\\sqrt{\\left[\\begin{array}{ll}\n",
    "0 & 1\n",
    "\\end{array}\\right]\\left[\\begin{array}{ll}\n",
    "3 & 0 \\\\\n",
    "0 & 3\n",
    "\\end{array}\\right]\\left[\\begin{array}{l}\n",
    "0 \\\\\n",
    "1\n",
    "\\end{array}\\right]} \\\\\n",
    "& =\\sqrt{3}\n",
    "\\end{aligned}\n",
    "\\end{align*}\n",
    "which gives the angle\n",
    "\\begin{align*}\n",
    "\\theta_{x_1}=\\cos ^{-1}\\left(\\frac{3}{\\sqrt{3} \\sqrt{3}}\\right)=0\n",
    "\\end{align*}\n",
    "\n",
    "For $x_2$ we get\n",
    "\\begin{align*}\n",
    "\\begin{aligned}\n",
    "\\left\\langle V_1, V_2\\right\\rangle_{x_2} & =\\left[\\begin{array}{ll}\n",
    "1 & 0\n",
    "\\end{array}\\right]\\left[\\begin{array}{ll}\n",
    "14 & 0 \\\\\n",
    "0 & 14\n",
    "\\end{array}\\right]\\left[\\begin{array}{l}\n",
    "0 \\\\\n",
    "1\n",
    "\\end{array}\\right] \\\\\n",
    "& =14\n",
    "\\end{aligned}\n",
    "\\end{align*}\n",
    "and\n",
    "\\begin{align*}\n",
    "\\left\\|V_2\\right\\|_{x_2}=\\sqrt{14}\n",
    "\\end{align*}\n",
    "\n",
    "so the angle is\n",
    "\\begin{align*}\n",
    "\\theta_{x_2}=\\cos ^{-1}\\left(\\frac{14}{\\sqrt{14} \\sqrt{14}}\\right)=0\n",
    "\\end{align*}\n",
    "and for $x_3$\n",
    "\\begin{align*}\n",
    "\\left\\langle v_1, v_2\\right\\rangle_{x_3}=10, \\quad\\left\\|v_2\\right\\|_{x_2}=\\sqrt{10}\n",
    "\\end{align*}\n",
    "so the angle is:\n",
    "\\begin{align*}\n",
    "\\theta_{x_3}=\\cos ^{-1}\\left(\\frac{10}{\\sqrt{10} \\sqrt{10}}\\right)=0\n",
    "\\end{align*}\n",
    "\n",
    "Meaning the local angles for $V_1$ and $V_2$ are equal for all points of tangency $x_1, x_2$, and $x_3$."
   ]
  },
  {
   "cell_type": "markdown",
   "metadata": {},
   "source": [
    "## 6.3 - Euclidean metric \n",
    "\n",
    "Consider the Euclidean metric of $\\mathbb{R}^d$, i.e. $\\mathbf{G}=\\mathbf{I}$."
   ]
  },
  {
   "cell_type": "markdown",
   "metadata": {},
   "source": [
    "### 1. \n",
    "Derive the coefficients of the geodesics ODE of this metric (Eq. 7.20 in the DGGM book)."
   ]
  },
  {
   "cell_type": "markdown",
   "metadata": {},
   "source": [
    "We consider the Euclidean metric of $\\mathbb{R}^{d}$ ie. $G=I$. We introduce equation 7.20 Gamma\n",
    "\n",
    "$$\n",
    "\\begin{aligned}\n",
    "\\Gamma_{j}^{i k}\\left(c_{t}\\right) & =\\frac{1}{2}\\left[G_{c_{t}}^{-1}\\right]_{i j}\\left(2 \\frac{\\partial\\left[G_{c_{t}}\\right]_{i j}}{\\partial\\left[c_{t}\\right]_{k}}-\\frac{\\partial\\left[G_{c_{t}}\\right]_{j k}}{\\partial\\left[c_{t}\\right]_{i}}\\right) \\\\\n",
    "& =0\n",
    "\\end{aligned}\n",
    "$$\n",
    "\n",
    "Matrix\n",
    "\n",
    "Since the partial derivatives are all.\n",
    "\n"
   ]
  },
  {
   "cell_type": "markdown",
   "metadata": {},
   "source": [
    "### 2. \n",
    "Derive the geodesic ODE."
   ]
  },
  {
   "cell_type": "markdown",
   "metadata": {},
   "source": [
    "We now want to derive the geodesic ODE. However this is also o since\n",
    "\n",
    "$$\n",
    "\\left[\\ddot{c}_{t}\\right]_{j}= -\\sum_{i=1}^{d} \\sum_{k=1}^{d} \\Gamma_{j}^{i k} (c_{t})\\left[\\dot{c}_{t}\\right]_{k}\\left[\\dot{c}_{t}\\right]_{j}\n",
    "$$\n",
    "\n",
    "and from ex. 6.3.1 we have\n",
    "\n",
    "$$\n",
    "\\Gamma_{j}^{i k}\\left(c_{t}\\right)=0\n",
    "$$\n",
    "\n"
   ]
  },
  {
   "cell_type": "markdown",
   "metadata": {},
   "source": [
    "### 3. \n",
    "What is the geodesic that connects points $\\mathbf{x}_1$ and $\\mathbf{x}_2$ ?"
   ]
  },
  {
   "cell_type": "markdown",
   "metadata": {},
   "source": [
    "What is the geodesic that corrects points $x_{1}$ and $x_{2}$ ?\n",
    "\n",
    "$$\n",
    "c(t)=(1-t) x_{1}+t x_{2}\n",
    "$$\n",
    "\n",
    "Where $t \\in[0,1]$\n",
    "\n",
    "Then $c(0)=x_{1}$ and $c(1)=x_{2}$.\n",
    "\n"
   ]
  },
  {
   "cell_type": "markdown",
   "metadata": {},
   "source": [
    "## 6.4 - Quadratic Metric \n",
    "Consider a two-dimensional abstract manifold with the metric\n",
    "\\begin{align*}\n",
    "\\mathbf{G}_{\\mathbf{x}}=\\left(1+\\|\\mathbf{x}\\|^2\\right) \\mathbf{I}, \\quad \\mathbf{x} \\in \\mathbb{R}^2 .\n",
    "\\end{align*}"
   ]
  },
  {
   "cell_type": "markdown",
   "metadata": {},
   "source": [
    "### 1. \n",
    "Derive the coefficients of the geodesics ODE of this metric (Eq. 7.20 in the DGGM book). Hint: note that some terms of the metric are zero, which renders some coefficients to be zero as well."
   ]
  },
  {
   "cell_type": "markdown",
   "metadata": {},
   "source": [
    "\n",
    "We have a $2 d$ abstract manifold with the metric:\n",
    "\n",
    "$$\n",
    "G_{x}=\\left(1+\\|x\\|^{2}\\right) I, x \\in \\mathbb{R}^{2}\n",
    "$$\n",
    "\n",
    "We can derive the coefficients of the geodesic ODE of the metric:\n",
    "\n",
    "$$\n",
    "T_{j}^{i k}(x)=\\frac{1}{2}\\left[G_{x}^{-1}\\right]_{i j}\\left(2 \\frac{\\partial\\left[G_{x}\\right]_{i j}}{\\partial x_{k}}-\\frac{\\partial\\left[G_{x}\\right]_{j k}}{\\partial x_{i}}\\right)\n",
    "$$\n",
    "\n",
    "Let's first write up $G_{x}$ :\n",
    "\n",
    "$$\n",
    "\\begin{aligned}\n",
    "G_{x} & =\\left[\\begin{array}{cc}\n",
    "1+\\|x\\|^{2} & 0 \\\\\n",
    "0 & 1+\\|x\\|^{2}\n",
    "\\end{array}\\right] \\\\\n",
    "& =\\left[\\begin{array}{cc}\n",
    "1+x_{1}^{2}+x_{2}^{2} & 0 \\\\\n",
    "0 & 1+x_{1}^{2}+x_{2}^{2}\n",
    "\\end{array}\\right]\n",
    "\\end{aligned}\n",
    "$$\n",
    "\n",
    "we see that $G_{x}$ is positive definite and so it is invertible.\n",
    "\n",
    "We find the inverse:\n",
    "\n",
    "$$\n",
    "\\begin{aligned}\n",
    "G_{x}^{-1} & =\\left[\\begin{array}{cc}\n",
    "\\left(1+x_{1}^{2}+x_{2}^{2}\\right)^{-1} & 0 \\\\\n",
    "0 & \\left(1+x_{1}^{2}+x_{2}^{2}\\right)^{-1}\n",
    "\\end{array}\\right] \\\\\n",
    "& =\\left[\\begin{array}{cc}\n",
    "1+x_{1}^{-2}+x_{2}^{-2} & 0 \\\\\n",
    "0 & 1+x_{1}^{-2}+x_{2}^{-2}\n",
    "\\end{array}\\right]\n",
    "\\end{aligned}\n",
    "$$\n",
    "\n",
    "Now we compute the coefficients.\n",
    "\n",
    "For $k=1$ :\n",
    "\n",
    "$$\n",
    "T=\\left[\\begin{array}{cc}\n",
    "x_{1}\\left(1+\\bar{x}_{1}^{2}+x_{2}^{-2}\\right) & 0 \\\\\n",
    "0 & 2 x_{1}\\left(1+x_{1}^{-2}+x_{2}^{-2}\\right)\n",
    "\\end{array}\\right]\n",
    "$$\n",
    "\n",
    "For $k=2$\n",
    "\n",
    "$$\n",
    "T=\\left[\\begin{array}{cc}\n",
    "2 x_{2}\\left(1+x_{1}^{-2}+x_{2}^{-2}\\right) & 0 \\\\\n",
    "0 & x_{2}\\left(1+x_{1}^{-2}+x_{2}^{-2}\\right)\n",
    "\\end{array}\\right]\n",
    "$$\n",
    "\n"
   ]
  },
  {
   "cell_type": "markdown",
   "metadata": {},
   "source": [
    "### 2. \n",
    "Derive the geodesic ODE."
   ]
  },
  {
   "cell_type": "markdown",
   "metadata": {},
   "source": []
  },
  {
   "cell_type": "markdown",
   "metadata": {},
   "source": [
    "### 3. \n",
    "Consider a geodesic $c$ starting at $c_0=\\mathbf{0}$ and initial velocity $\\dot{c}_0=\\mathbf{v}$. What is the acceleration $\\ddot{c}_0$ ?"
   ]
  },
  {
   "cell_type": "markdown",
   "metadata": {},
   "source": []
  },
  {
   "cell_type": "markdown",
   "metadata": {},
   "source": [
    "## 6.5 - Curve parametrizations\n",
    "\n",
    "Consider a two-dimensional abstract manifold with the metric\n",
    "\\begin{align*}\n",
    "\\mathbf{G}_{\\mathbf{x}}=\\left(1+\\|\\mathbf{x}\\|^2\\right) \\mathbf{I}, \\quad \\mathbf{x} \\in \\mathbb{R}^2 .\n",
    "\\end{align*}"
   ]
  },
  {
   "cell_type": "markdown",
   "metadata": {},
   "source": [
    "### 1. \n",
    "Implement direct energy minimization for computing geodesics using piecewise straight lines to parameterize the solution curve."
   ]
  },
  {
   "cell_type": "code",
   "execution_count": 11,
   "metadata": {},
   "outputs": [
    {
     "data": {
      "text/plain": [
       "array([[0.  , 0.  ],\n",
       "       [0.25, 0.25],\n",
       "       [0.5 , 0.5 ],\n",
       "       [0.75, 0.75],\n",
       "       [1.  , 1.  ]])"
      ]
     },
     "execution_count": 11,
     "metadata": {},
     "output_type": "execute_result"
    }
   ],
   "source": [
    "import numpy as np\n",
    "\n",
    "from mamll.diffgeom.geodesic import minimize_energy\n",
    "\n",
    "# Define the metric tensor for a given x\n",
    "def G(x):\n",
    "    x_norm = np.linalg.norm(x)**2\n",
    "    return (1 + x_norm) * np.eye(2)\n",
    "\n",
    "n = 5  # Number of points including start and end\n",
    "start = np.array([0, 0])\n",
    "end = np.array([1, 1])\n",
    "optimized_path = minimize_energy(G, n, start, end)\n",
    "optimized_path"
   ]
  },
  {
   "cell_type": "markdown",
   "metadata": {},
   "source": [
    "### 2. \n",
    "Extend the previous implementation to also support third-order polynomials to parametrize the solution curve."
   ]
  },
  {
   "cell_type": "code",
   "execution_count": null,
   "metadata": {},
   "outputs": [],
   "source": []
  },
  {
   "cell_type": "markdown",
   "metadata": {},
   "source": [
    "## 6.6 - Density metrics \n",
    "\n",
    "Consider the dataset available at http://hauberg.org/weekendwithbernie/toybanana.npy\n",
    "\n",
    "This consist of $N=992$ observations in $\\mathbb{R}^2$. Consider the metric over $\\mathbb{R}^2$ defined as\n",
    "\\begin{align*}\n",
    "\\begin{aligned}\n",
    "\\mathbf{G}_{\\mathbf{x}} & =\\frac{1}{p(\\mathbf{x})+\\epsilon} \\\\\n",
    "p(\\mathbf{x}) & =\\frac{1}{N} \\sum_{n=1}^N \\mathcal{N}\\left(\\mathbf{x} \\mid \\mathbf{x}_n, \\sigma^2 \\mathbf{I}\\right),\n",
    "\\end{aligned}\n",
    "\\end{align*}\n",
    "where $\\sigma=0.1$, and $\\epsilon=10^{-4}$ avoids dividing by zero."
   ]
  },
  {
   "cell_type": "markdown",
   "metadata": {},
   "source": [
    "### 1. \n",
    "Implement direct energy minimization for computing geodesics using piecewise straight lines to parameterize the solution curve."
   ]
  },
  {
   "cell_type": "code",
   "execution_count": 26,
   "metadata": {},
   "outputs": [
    {
     "data": {
      "text/plain": [
       "array([[-1.25      , -0.4       ],\n",
       "       [-0.85222385, -0.29089119],\n",
       "       [-0.85222363, -0.29089102],\n",
       "       [-0.82221234, -0.28447441],\n",
       "       [-0.68008226, -0.25780975],\n",
       "       [-0.57808021, -0.24142241],\n",
       "       [-0.42857129, -0.22258342],\n",
       "       [-0.31264313, -0.21154102],\n",
       "       [-0.1860093 , -0.20204331],\n",
       "       [-0.05960171, -0.19713487],\n",
       "       [ 0.06673203, -0.19613655],\n",
       "       [ 0.19352395, -0.19946808],\n",
       "       [ 0.31991147, -0.20783531],\n",
       "       [ 0.44378386, -0.22013548],\n",
       "       [ 0.57503793, -0.23701971],\n",
       "       [ 0.70232583, -0.2590153 ],\n",
       "       [ 0.81223671, -0.28017668],\n",
       "       [ 0.92822341, -0.30693503],\n",
       "       [ 0.92822427, -0.30693523],\n",
       "       [ 1.25      , -0.4       ]])"
      ]
     },
     "execution_count": 26,
     "metadata": {},
     "output_type": "execute_result"
    }
   ],
   "source": [
    "import numpy as np\n",
    "from scipy.stats import multivariate_normal\n",
    "\n",
    "from mamll.diffgeom.geodesic import minimize_energy\n",
    "\n",
    "# Function p(x) using scipy's norm.pdf\n",
    "def p_x(x, X, sigma):\n",
    "    D = x.shape[0]\n",
    "    cov = sigma**2 * np.eye(D)\n",
    "    densities = multivariate_normal.pdf(X, mean=x, cov=cov)\n",
    "    return np.mean(densities)\n",
    "\n",
    "# Metric tensor G_x\n",
    "def G_x(x, X, sigma, epsilon):\n",
    "    return np.eye(2) / (p_x(x, X, sigma) + epsilon)\n",
    "\n",
    "sigma = 1.0  # Standard deviation for the Gaussian functions\n",
    "epsilon = 1e-6  # Small constant to avoid division by zero\n",
    "\n",
    "X = np.load('../data/toybanana.npy')\n",
    "n = 20 \n",
    "start = np.array([-1.25, -0.4])\n",
    "end = np.array([1.25, -0.4])\n",
    "G = lambda x: G_x(x, X, sigma, epsilon) # noqa\n",
    "\n",
    "optimized_path = minimize_energy(G, n, start, end) # type: ignore\n",
    "optimized_path"
   ]
  },
  {
   "cell_type": "code",
   "execution_count": 27,
   "metadata": {},
   "outputs": [
    {
     "data": {
      "image/png": "[encoded data removed]",
      "text/plain": [
       "<Figure size 640x480 with 1 Axes>"
      ]
     },
     "metadata": {},
     "output_type": "display_data"
    }
   ],
   "source": [
    "#Visualize the path on X\n",
    "import matplotlib.pyplot as plt\n",
    "import matplotlib.patches as patches\n",
    "\n",
    "fig, ax = plt.subplots()\n",
    "ax.scatter(X[:, 0], X[:, 1], s=1)\n",
    "ax.plot(optimized_path[:, 0], optimized_path[:, 1], 'r')\n",
    "ax.add_patch(patches.Circle(start, 0.05, color='g'))\n",
    "ax.add_patch(patches.Circle(end, 0.05, color='g'))\n",
    "plt.show()"
   ]
  },
  {
   "cell_type": "markdown",
   "metadata": {},
   "source": [
    "### 2. \n",
    "Extend the previous implementation to also support third-order polynomials to parametrize the solution curve."
   ]
  },
  {
   "cell_type": "code",
   "execution_count": null,
   "metadata": {},
   "outputs": [],
   "source": []
  }
 ],
 "metadata": {
  "kernelspec": {
   "display_name": "mamll-AC6_j2qg-py3.12",
   "language": "python",
   "name": "python3"
  },
  "language_info": {
   "codemirror_mode": {
    "name": "ipython",
    "version": 3
   },
   "file_extension": ".py",
   "mimetype": "text/x-python",
   "name": "python",
   "nbconvert_exporter": "python",
   "pygments_lexer": "ipython3",
   "version": "3.12.1"
  }
 },
 "nbformat": 4,
 "nbformat_minor": 2
}
