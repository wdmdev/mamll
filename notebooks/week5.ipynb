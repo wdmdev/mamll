{
 "cells": [
  {
   "cell_type": "markdown",
   "metadata": {},
   "source": [
    "# Week 5 - Representaion Invariance"
   ]
  },
  {
   "cell_type": "markdown",
   "metadata": {},
   "source": [
    "## Programming Exercises"
   ]
  },
  {
   "cell_type": "markdown",
   "metadata": {},
   "source": [
    "### 5.4 - Curve lengths of Eq. 17\n",
    "Consider the curve from Eq. 17 in the exercises\n",
    "\n",
    "$c:[0,1] \\rightarrow \\mathbb{R}^2$ defined as\n",
    "\\begin{align*}\n",
    "c(t)=\\left(\\begin{array}{c}\n",
    "2 t+1 \\\\\n",
    "-t^2\n",
    "\\end{array}\\right)\n",
    "\\end{align*}"
   ]
  },
  {
   "cell_type": "code",
   "execution_count": 1,
   "metadata": {},
   "outputs": [],
   "source": [
    "import numpy as np\n",
    "\n",
    "def c(t):\n",
    "    return np.array([2*t + 1, -t**2])\n",
    "\n",
    "# exclude 0 and 1\n",
    "t = np.linspace(0 + np.finfo(float).eps, 1 - np.finfo(float).eps, 1000)"
   ]
  },
  {
   "cell_type": "code",
   "execution_count": 2,
   "metadata": {},
   "outputs": [
    {
     "name": "stdout",
     "output_type": "stream",
     "text": [
      "Discrete approximation: 2.2955870903490427\n",
      "Continuous approximation: 2.29570589377472\n"
     ]
    }
   ],
   "source": [
    "from mamll.diffgeom import curve\n",
    "\n",
    "discrete_approx = curve.discrete_length(c, t)\n",
    "print(f\"Discrete approximation: {discrete_approx}\")\n",
    "\n",
    "# derivate of c\n",
    "def dc(t):\n",
    "    return np.array([np.full_like(t, 2), -2*t]).T\n",
    "\n",
    "continuous_approx = curve.analytical_continuous_length(dc, a=0, b=1, n=1000)\n",
    "print(f\"Continuous approximation: {continuous_approx}\")"
   ]
  },
  {
   "cell_type": "code",
   "execution_count": null,
   "metadata": {},
   "outputs": [],
   "source": []
  }
 ],
 "metadata": {
  "kernelspec": {
   "display_name": "mamll-AC6_j2qg-py3.12",
   "language": "python",
   "name": "python3"
  },
  "language_info": {
   "codemirror_mode": {
    "name": "ipython",
    "version": 3
   },
   "file_extension": ".py",
   "mimetype": "text/x-python",
   "name": "python",
   "nbconvert_exporter": "python",
   "pygments_lexer": "ipython3",
   "version": "3.12.1"
  }
 },
 "nbformat": 4,
 "nbformat_minor": 2
}
